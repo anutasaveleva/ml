{
 "cells": [
  {
   "cell_type": "code",
   "execution_count": 41,
   "metadata": {},
   "outputs": [],
   "source": [
    "import matplotlib.pyplot as plt\n",
    "import numpy as np"
   ]
  },
  {
   "cell_type": "code",
   "execution_count": 42,
   "metadata": {},
   "outputs": [],
   "source": [
    "def dist(x1, y1, x2, y2):\n",
    "    return np.sqrt((x1-x2)**2+(y1-y2)**2)"
   ]
  },
  {
   "cell_type": "code",
   "execution_count": 43,
   "metadata": {},
   "outputs": [],
   "source": [
    "def cluster(matrix, n, k):\n",
    "    clust = np.zeros(n)\n",
    "    for i in range(n):\n",
    "        max_affiliation = max(matrix[i])\n",
    "        for j in range(k):\n",
    "            if matrix[i][j] == max_affiliation:\n",
    "                clust[i] = j\n",
    "    return clust"
   ]
  },
  {
   "cell_type": "code",
   "execution_count": 44,
   "metadata": {},
   "outputs": [],
   "source": [
    "def recalc_centers(x, y, matrix, k, m):\n",
    "    x_c, y_c = [], []\n",
    "    for i in range(k):\n",
    "        s = sum(matrix[j, i]**m for j in range(len(x)) if matrix[j, i] == max(p for p in matrix[j]))\n",
    "        c_x = sum(matrix[j, i]**m * x[j] for j in range(len(x)) if matrix[j, i] == max(p for p in matrix[j]))\n",
    "        c_y = sum(matrix[j, i]**m * y[j] for j in range(len(x)) if matrix[j, i] == max(p for p in matrix[j]))\n",
    "        x_c.append(c_x / s) if s != 0 else 0\n",
    "        y_c.append(c_y / s) if s != 0 else 0\n",
    "    return x_c, y_c"
   ]
  },
  {
   "cell_type": "code",
   "execution_count": 45,
   "metadata": {},
   "outputs": [],
   "source": [
    "def change_matrix(n, k, x, y, x_c, y_c, m):\n",
    "    matrix = np.zeros((n, k))\n",
    "    for i in range(n):\n",
    "        for j in range(k):\n",
    "            sum = 0\n",
    "            disttocent1 = dist(x[i], y[i], x_c[j], y_c[j])\n",
    "            for t in range(k):\n",
    "                disttocent2 = dist(x[i], y[i], x_c[t], y_c[t])\n",
    "                sum += (disttocent1 / disttocent2) ** (2 / (m - 1))\n",
    "            matrix[i, j] = 1 / sum\n",
    "    return matrix"
   ]
  },
  {
   "cell_type": "code",
   "execution_count": 46,
   "metadata": {},
   "outputs": [],
   "source": [
    "def stop_cmeans(old_matrix, matrix, n, k, epsilon):\n",
    "    max = 0\n",
    "    for i in range(n):\n",
    "        for j in range(k):\n",
    "            diff = np.abs(matrix[i, j] - old_matrix[i, j])\n",
    "            if diff > max:\n",
    "                max = diff\n",
    "    return max < epsilon"
   ]
  },
  {
   "cell_type": "code",
   "execution_count": 47,
   "metadata": {},
   "outputs": [],
   "source": [
    "def c_means(n, k, m, eps):\n",
    "    x = np.random.randint(1, 100, n)\n",
    "    y = np.random.randint(1, 100, n)\n",
    "    matrix = np.zeros((n, k))\n",
    "    \n",
    "    for i in range(n):\n",
    "        for j in range(k):\n",
    "            matrix[i, j] = np.random.uniform(1, 4)\n",
    "\n",
    "    while True:\n",
    "        x_c, y_c = recalc_centers(x, y, matrix, k, m)\n",
    "        new_matrix = change_matrix(n, k, x, y, x_c, y_c, m)\n",
    "        if stop_cmeans(new_matrix, matrix, n, k, eps):\n",
    "            clusters = cluster(new_matrix, n, k)\n",
    "            for i in range(len(x)):\n",
    "                plt.scatter(x[i], y[i], c=colors[int(clusters[i])])\n",
    "            for i in range(len(x_c)):\n",
    "                plt.scatter(x_c[i], y_c[i], marker='*',c=colors[i], s=150)\n",
    "            plt.show()\n",
    "            break\n",
    "        matrix = new_matrix"
   ]
  },
  {
   "cell_type": "code",
   "execution_count": 48,
   "metadata": {},
   "outputs": [
    {
     "name": "stderr",
     "output_type": "stream",
     "text": [
      "H:\\anaconda\\lib\\site-packages\\ipykernel_launcher.py:9: RuntimeWarning: invalid value encountered in double_scalars\n",
      "  if __name__ == '__main__':\n",
      "H:\\anaconda\\lib\\site-packages\\ipykernel_launcher.py:9: RuntimeWarning: divide by zero encountered in double_scalars\n",
      "  if __name__ == '__main__':\n"
     ]
    },
    {
     "data": {
      "image/png": "[encoded data removed]",
      "text/plain": [
       "<Figure size 432x288 with 1 Axes>"
      ]
     },
     "metadata": {
      "needs_background": "light"
     },
     "output_type": "display_data"
    }
   ],
   "source": [
    "colors = ['r','g','blue','y','black','darkmagenta','c','m','k','khaki','teal']\n",
    "c_means(100, 4, 1.5, 0.1)"
   ]
  },
  {
   "cell_type": "code",
   "execution_count": null,
   "metadata": {},
   "outputs": [],
   "source": []
  }
 ],
 "metadata": {
  "kernelspec": {
   "display_name": "Python 3",
   "language": "python",
   "name": "python3"
  },
  "language_info": {
   "codemirror_mode": {
    "name": "ipython",
    "version": 3
   },
   "file_extension": ".py",
   "mimetype": "text/x-python",
   "name": "python",
   "nbconvert_exporter": "python",
   "pygments_lexer": "ipython3",
   "version": "3.7.4"
  }
 },
 "nbformat": 4,
 "nbformat_minor": 2
}
