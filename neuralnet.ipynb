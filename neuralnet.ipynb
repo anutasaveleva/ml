{
 "cells": [
  {
   "cell_type": "code",
   "execution_count": 121,
   "metadata": {},
   "outputs": [],
   "source": [
    "from keras.datasets import mnist\n",
    "import matplotlib.pyplot as plt\n",
    "from tensorflow import keras\n",
    "from tensorflow.keras import Sequential\n",
    "from tensorflow.keras.layers import  Dense\n",
    "import tensorflow as tf\n",
    "import time\n",
    "import numpy as np"
   ]
  },
  {
   "cell_type": "code",
   "execution_count": 109,
   "metadata": {},
   "outputs": [],
   "source": [
    "(x_train, y_train), (x_test, y_test) = mnist.load_data()"
   ]
  },
  {
   "cell_type": "code",
   "execution_count": 110,
   "metadata": {
    "scrolled": true
   },
   "outputs": [
    {
     "name": "stdout",
     "output_type": "stream",
     "text": [
      "0\n"
     ]
    },
    {
     "data": {
      "image/png": "[encoded data removed]",
      "text/plain": [
       "<Figure size 432x288 with 1 Axes>"
      ]
     },
     "metadata": {
      "needs_background": "light"
     },
     "output_type": "display_data"
    },
    {
     "name": "stdout",
     "output_type": "stream",
     "text": [
      "4\n"
     ]
    },
    {
     "data": {
      "image/png": "[encoded data removed]",
      "text/plain": [
       "<Figure size 432x288 with 1 Axes>"
      ]
     },
     "metadata": {
      "needs_background": "light"
     },
     "output_type": "display_data"
    },
    {
     "name": "stdout",
     "output_type": "stream",
     "text": [
      "1\n"
     ]
    },
    {
     "data": {
      "image/png": "[encoded data removed]",
      "text/plain": [
       "<Figure size 432x288 with 1 Axes>"
      ]
     },
     "metadata": {
      "needs_background": "light"
     },
     "output_type": "display_data"
    },
    {
     "name": "stdout",
     "output_type": "stream",
     "text": [
      "9\n"
     ]
    },
    {
     "data": {
      "image/png": "[encoded data removed]",
      "text/plain": [
       "<Figure size 432x288 with 1 Axes>"
      ]
     },
     "metadata": {
      "needs_background": "light"
     },
     "output_type": "display_data"
    }
   ],
   "source": [
    "image_indexes = list(range(1,5))\n",
    "for i in image_indexes:\n",
    "    print(y_train[i])\n",
    "    plt.imshow(x_train[i], cmap='Greys')\n",
    "    plt.show()"
   ]
  },
  {
   "cell_type": "code",
   "execution_count": 116,
   "metadata": {},
   "outputs": [],
   "source": [
    "def create_model(image_w, image_h):\n",
    "   # Neural network model\n",
    "   model = Sequential()\n",
    "   model.add(Dense(784, activation='relu', input_shape=(image_w*image_h,))) #784=28*28, internal layer\n",
    "   model.add(Dense(10, activation='softmax')) #digits 0..9, count=10\n",
    "   model.compile(loss='categorical_crossentropy', optimizer=RMSprop(), metrics=['accuracy'])\n",
    "   return model"
   ]
  },
  {
   "cell_type": "code",
   "execution_count": 119,
   "metadata": {},
   "outputs": [],
   "source": [
    "def train_model(model):\n",
    "   image_size = x_train.shape[1]\n",
    "   num_classes = 10\n",
    "   train_data = x_train.reshape(x_train.shape[0], image_size**2).astype('float32')\n",
    "   test_data = x_test.reshape(x_test.shape[0], image_size**2).astype('float32')\n",
    "   train_data /= 255.0\n",
    "   test_data /= 255.0\n",
    "   train_cat = keras.utils.to_categorical(y_train, num_classes)\n",
    "   test_cat = keras.utils.to_categorical(y_test, num_classes)\n",
    "   model.fit(train_data, train_cat, epochs=8, batch_size=64, \n",
    "verbose=1, validation_data=(test_data, test_cat))\n",
    "    "
   ]
  },
  {
   "cell_type": "code",
   "execution_count": 120,
   "metadata": {},
   "outputs": [
    {
     "name": "stdout",
     "output_type": "stream",
     "text": [
      "Epoch 1/8\n",
      "938/938 [==============================] - 17s 18ms/step - loss: 0.2073 - accuracy: 0.9384 - val_loss: 0.1044 - val_accuracy: 0.9669\n",
      "Epoch 2/8\n",
      "938/938 [==============================] - 15s 17ms/step - loss: 0.0857 - accuracy: 0.9746 - val_loss: 0.0811 - val_accuracy: 0.9766\n",
      "Epoch 3/8\n",
      "938/938 [==============================] - 15s 16ms/step - loss: 0.0564 - accuracy: 0.9830 - val_loss: 0.0827 - val_accuracy: 0.9760\n",
      "Epoch 4/8\n",
      "938/938 [==============================] - 15s 17ms/step - loss: 0.0420 - accuracy: 0.9877 - val_loss: 0.0678 - val_accuracy: 0.9822\n",
      "Epoch 5/8\n",
      "938/938 [==============================] - 16s 17ms/step - loss: 0.0314 - accuracy: 0.9906 - val_loss: 0.0885 - val_accuracy: 0.9775\n",
      "Epoch 6/8\n",
      "938/938 [==============================] - 16s 17ms/step - loss: 0.0237 - accuracy: 0.9931 - val_loss: 0.0802 - val_accuracy: 0.9802\n",
      "Epoch 7/8\n",
      "938/938 [==============================] - 16s 17ms/step - loss: 0.0185 - accuracy: 0.9945 - val_loss: 0.0814 - val_accuracy: 0.9808\n",
      "Epoch 8/8\n",
      "938/938 [==============================] - 16s 17ms/step - loss: 0.0148 - accuracy: 0.9957 - val_loss: 0.0839 - val_accuracy: 0.9814\n"
     ]
    }
   ],
   "source": [
    "model = create_model(image_w=28, image_h=28)\n",
    "train_model(model)\n",
    "model.save('model.h5')"
   ]
  },
  {
   "cell_type": "code",
   "execution_count": 126,
   "metadata": {},
   "outputs": [
    {
     "data": {
      "image/png": "[encoded data removed]",
      "text/plain": [
       "<Figure size 432x288 with 1 Axes>"
      ]
     },
     "metadata": {
      "needs_background": "light"
     },
     "output_type": "display_data"
    },
    {
     "name": "stdout",
     "output_type": "stream",
     "text": [
      "result = 2\n"
     ]
    },
    {
     "data": {
      "image/png": "[encoded data removed]",
      "text/plain": [
       "<Figure size 432x288 with 1 Axes>"
      ]
     },
     "metadata": {
      "needs_background": "light"
     },
     "output_type": "display_data"
    },
    {
     "name": "stdout",
     "output_type": "stream",
     "text": [
      "result = 9\n"
     ]
    },
    {
     "data": {
      "image/png": "[encoded data removed]",
      "text/plain": [
       "<Figure size 432x288 with 1 Axes>"
      ]
     },
     "metadata": {
      "needs_background": "light"
     },
     "output_type": "display_data"
    },
    {
     "name": "stdout",
     "output_type": "stream",
     "text": [
      "result = 4\n"
     ]
    },
    {
     "data": {
      "image/png": "[encoded data removed]",
      "text/plain": [
       "<Figure size 432x288 with 1 Axes>"
      ]
     },
     "metadata": {
      "needs_background": "light"
     },
     "output_type": "display_data"
    },
    {
     "name": "stdout",
     "output_type": "stream",
     "text": [
      "result = 6\n"
     ]
    }
   ],
   "source": [
    "def predict(model, image_file):\n",
    "   image_size = 28\n",
    "   img = keras.preprocessing.image.load_img(image_file, target_size=(image_size, image_size), color_mode='grayscale')\n",
    "   plt.imshow(img, cmap='Greys')\n",
    "   plt.show()\n",
    "   img_arr = np.expand_dims(img, axis=0)\n",
    "   img_arr = 1 - img_arr/255.0\n",
    "   \n",
    "   img_arr = img_arr.reshape((1, image_size**2))\n",
    "   result = model.predict_classes([img_arr])\n",
    "   return result[0]\n",
    "\n",
    "model = tf.keras.models.load_model('model.h5')\n",
    "print('result = ' + str(predict(model, 'num_2.png')))\n",
    "print('result = ' + str(predict(model, 'num_9.png')))\n",
    "print('result = ' + str(predict(model, 'num_4.png')))\n",
    "print('result = ' + str(predict(model, 'num_0.png')))"
   ]
  },
  {
   "cell_type": "code",
   "execution_count": null,
   "metadata": {},
   "outputs": [],
   "source": []
  }
 ],
 "metadata": {
  "kernelspec": {
   "display_name": "Python 3",
   "language": "python",
   "name": "python3"
  },
  "language_info": {
   "codemirror_mode": {
    "name": "ipython",
    "version": 3
   },
   "file_extension": ".py",
   "mimetype": "text/x-python",
   "name": "python",
   "nbconvert_exporter": "python",
   "pygments_lexer": "ipython3",
   "version": "3.7.4"
  }
 },
 "nbformat": 4,
 "nbformat_minor": 2
}
