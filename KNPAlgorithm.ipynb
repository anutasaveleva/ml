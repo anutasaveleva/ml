{
 "cells": [
  {
   "cell_type": "code",
   "execution_count": 220,
   "metadata": {},
   "outputs": [],
   "source": [
    "import sys\n",
    "import numpy as np\n",
    "import matplotlib.pyplot as plt\n",
    "import networkx as nx"
   ]
  },
  {
   "cell_type": "code",
   "execution_count": 221,
   "metadata": {},
   "outputs": [
    {
     "name": "stdout",
     "output_type": "stream",
     "text": [
      "[[0, 90, 83, 54, 81, 81, 61, 70, 80, 21], [90, 0, 92, 38, 75, 86, 88, 53, 57, 14], [83, 92, 0, 65, 30, 74, 55, 52, 71, 52], [54, 38, 65, 0, 8, 52, 63, 92, 70, 54], [81, 75, 30, 8, 0, 96, 46, 34, 46, 99], [81, 86, 74, 52, 96, 0, 33, 99, 97, 42], [61, 88, 55, 63, 46, 33, 0, 6, 34, 45], [70, 53, 52, 92, 34, 99, 6, 0, 48, 52], [80, 57, 71, 70, 46, 97, 34, 48, 0, 83], [21, 14, 52, 54, 99, 42, 45, 52, 83, 0]]\n"
     ]
    }
   ],
   "source": [
    "n, k = 10, 2\n",
    "\n",
    "\n",
    "weight = [[0 for i in range(n)] for j in range(n)]\n",
    "for i in range(0, n):\n",
    "    for j in range(i + 1, n):\n",
    "        weight[i][j] = np.random.randint(1, 100)\n",
    "        weight[j][i] = weight[i][j]\n",
    "\n",
    "tree = [[0 for i in range(n)] for j in range(n)]\n",
    "\n",
    "print(weight)"
   ]
  },
  {
   "cell_type": "code",
   "execution_count": 222,
   "metadata": {},
   "outputs": [],
   "source": [
    "def first_connection(weight,tree):\n",
    "    connect_pnt = [0 for i in range(n)]\n",
    "    minim = sys.maxsize\n",
    "    i_min, j_min = 0, 1\n",
    "    for i in range(n):\n",
    "        for j in range(i + 1, n):\n",
    "            if minim > weight[i][j]:\n",
    "                minim = weight[i][j]\n",
    "                i_min, j_min = i, j\n",
    "    tree[i_min][j_min] = minim\n",
    "    tree[j_min][i_min] = minim\n",
    "    weight[i_min][j_min] = weight[j_min][i_min] = sys.maxsize\n",
    "    connect_pnt[i_min] = connect_pnt[j_min] = 1\n",
    "    return connect_pnt"
   ]
  },
  {
   "cell_type": "code",
   "execution_count": 223,
   "metadata": {},
   "outputs": [],
   "source": [
    "def lync_all(weight,tree,connect_pnt):\n",
    "    minim = sys.maxsize\n",
    "    i_min, j_min = None, None\n",
    "    for i in range(n):\n",
    "        if connect_pnt[i] == 1:\n",
    "            for j in range(n):\n",
    "                if connect_pnt[j] == 0:\n",
    "                    if (minim > weight[i][j]):\n",
    "                        minim = weight[i][j]\n",
    "                        i_min, j_min = i, j\n",
    "    tree[i_min][j_min] = minim\n",
    "    tree[j_min][i_min] = minim\n",
    "    weight[i_min][j_min] = weight[j_min][i_min] = sys.maxsize\n",
    "    connect_pnt[i_min] = connect_pnt[j_min] = 1"
   ]
  },
  {
   "cell_type": "code",
   "execution_count": 224,
   "metadata": {},
   "outputs": [],
   "source": [
    "def delete_connection(tree):\n",
    "    maxim = 0\n",
    "    i_max = j_max = 0\n",
    "    for i in range(n):\n",
    "        for j in range(i + 1, n):\n",
    "            if tree[i][j] > maxim:\n",
    "                maxim = tree[i][j]\n",
    "                i_max, j_max = i, j\n",
    "    tree[i_max][j_max] = tree[j_max][i_max] = 0"
   ]
  },
  {
   "cell_type": "code",
   "execution_count": 225,
   "metadata": {},
   "outputs": [],
   "source": [
    "def cluster(cl,tree,clust_pnt):\n",
    "    clust = []\n",
    "    for i in range(n): \n",
    "        for j in range(n): \n",
    "            if tree[i][j] == 0: \n",
    "                continue\n",
    "            if len(clust) == 0:\n",
    "                clust.append(i)\n",
    "                clust.append(j)\n",
    "                tree[i][j] = tree[j][i] = 0 \n",
    "    \n",
    "    for i in range(2):\n",
    "        m = clust[i]\n",
    "        old_m = -1\n",
    "        while old_m != m:\n",
    "            old_m = m\n",
    "            for j in range(n):\n",
    "                if tree[m][j] == 0: \n",
    "                    continue\n",
    "                else:\n",
    "                    clust.append(j)\n",
    "                    tree[m][j] = tree[j][m] = 0\n",
    "                    m = j\n",
    "                    \n",
    "    for i in clust:\n",
    "        clust_pnt[i] = cl"
   ]
  },
  {
   "cell_type": "code",
   "execution_count": 226,
   "metadata": {},
   "outputs": [],
   "source": [
    "connect_pnt = first_connection(weight,tree)\n",
    "while 0 in connect_pnt:\n",
    "    lync_all(weight,tree,connect_pnt)\n",
    "for i in range(k - 1):\n",
    "    delete_connection(tree)\n",
    "clust_pnt = [0 for i in range(n)]\n",
    "clust_old = np.zeros((n,n))\n",
    "for i in range(n):\n",
    "    for j in range(n):\n",
    "        clust_old[i][j] = tree[i][j]\n",
    "for i in range(1, k):\n",
    "    cluster(i, tree,clust_pnt)"
   ]
  },
  {
   "cell_type": "code",
   "execution_count": 227,
   "metadata": {},
   "outputs": [
    {
     "data": {
      "text/plain": [
       "{(0, 9): Text(0.9045084723427135, -0.2938926225450651, '21.0'),\n",
       " (1, 9): Text(0.8090169744877491, -3.178651286628309e-09, '14.0'),\n",
       " (2, 4): Text(-0.2500000335276124, 0.7694208819423884, '30.0'),\n",
       " (3, 4): Text(-0.5590170333473352, 0.7694208521400663, '8.0'),\n",
       " (4, 7): Text(-0.5590170631496574, -0.18163561976454123, '34.0'),\n",
       " (5, 6): Text(-0.9045084544613202, -0.29389269605877516, '33.0'),\n",
       " (6, 7): Text(-0.559017003545013, -0.769420888299691, '6.0'),\n",
       " (6, 8): Text(-0.24999989941716289, -0.769420888299691, '34.0')}"
      ]
     },
     "execution_count": 227,
     "metadata": {},
     "output_type": "execute_result"
    },
    {
     "data": {
      "image/png": "[encoded data removed]",
      "text/plain": [
       "<Figure size 432x288 with 1 Axes>"
      ]
     },
     "metadata": {},
     "output_type": "display_data"
    }
   ],
   "source": [
    "G = nx.Graph(strict=False)\n",
    "tree = clust_old\n",
    "for i in range(n):\n",
    "    G.add_node(i)\n",
    "for i in range(n):\n",
    "    for j in range(n):\n",
    "        if tree[i][j] != 0:\n",
    "            G.add_edge(i,j, weight=tree[i][j])\n",
    "            G.add_edges_from([(i, j, {'weight': tree[i][j]})])\n",
    "            tree[i][j] = tree[j][i] = 0 \n",
    "nx.draw_circular(G, with_labels=True)\n",
    "pos = nx.circular_layout(G)\n",
    "edge_labels = nx.get_edge_attributes(G,'weight')\n",
    "nx.draw_networkx_edge_labels(G, pos=pos, edge_labels = edge_labels)"
   ]
  },
  {
   "cell_type": "code",
   "execution_count": null,
   "metadata": {},
   "outputs": [],
   "source": []
  }
 ],
 "metadata": {
  "kernelspec": {
   "display_name": "Python 3",
   "language": "python",
   "name": "python3"
  },
  "language_info": {
   "codemirror_mode": {
    "name": "ipython",
    "version": 3
   },
   "file_extension": ".py",
   "mimetype": "text/x-python",
   "name": "python",
   "nbconvert_exporter": "python",
   "pygments_lexer": "ipython3",
   "version": "3.7.4"
  }
 },
 "nbformat": 4,
 "nbformat_minor": 2
}
